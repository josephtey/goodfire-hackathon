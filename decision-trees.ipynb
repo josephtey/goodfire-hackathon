{
 "cells": [
  {
   "cell_type": "code",
   "execution_count": 1,
   "metadata": {},
   "outputs": [],
   "source": [
    "import goodfire\n",
    "\n",
    "client = goodfire.Client(GOODFIRE_API_KEY)"
   ]
  },
  {
   "cell_type": "code",
   "execution_count": 12,
   "metadata": {},
   "outputs": [],
   "source": [
    "import pandas as pd\n",
    "\n",
    "df = pd.read_csv(\"data/spam_messages_train.csv\")"
   ]
  },
  {
   "cell_type": "code",
   "execution_count": 13,
   "metadata": {},
   "outputs": [
    {
     "data": {
      "text/html": [
       "<div>\n",
       "<style scoped>\n",
       "    .dataframe tbody tr th:only-of-type {\n",
       "        vertical-align: middle;\n",
       "    }\n",
       "\n",
       "    .dataframe tbody tr th {\n",
       "        vertical-align: top;\n",
       "    }\n",
       "\n",
       "    .dataframe thead th {\n",
       "        text-align: right;\n",
       "    }\n",
       "</style>\n",
       "<table border=\"1\" class=\"dataframe\">\n",
       "  <thead>\n",
       "    <tr style=\"text-align: right;\">\n",
       "      <th></th>\n",
       "      <th>label</th>\n",
       "      <th>text</th>\n",
       "    </tr>\n",
       "  </thead>\n",
       "  <tbody>\n",
       "    <tr>\n",
       "      <th>0</th>\n",
       "      <td>ham</td>\n",
       "      <td>Funny fact Nobody teaches volcanoes 2 erupt, t...</td>\n",
       "    </tr>\n",
       "    <tr>\n",
       "      <th>1</th>\n",
       "      <td>ham</td>\n",
       "      <td>I sent my scores to sophas and i had to do sec...</td>\n",
       "    </tr>\n",
       "    <tr>\n",
       "      <th>2</th>\n",
       "      <td>spam</td>\n",
       "      <td>We know someone who you know that fancies you....</td>\n",
       "    </tr>\n",
       "    <tr>\n",
       "      <th>3</th>\n",
       "      <td>ham</td>\n",
       "      <td>Only if you promise your getting out as SOON a...</td>\n",
       "    </tr>\n",
       "    <tr>\n",
       "      <th>4</th>\n",
       "      <td>spam</td>\n",
       "      <td>Congratulations ur awarded either �500 of CD g...</td>\n",
       "    </tr>\n",
       "    <tr>\n",
       "      <th>...</th>\n",
       "      <td>...</td>\n",
       "      <td>...</td>\n",
       "    </tr>\n",
       "    <tr>\n",
       "      <th>47387</th>\n",
       "      <td>ham</td>\n",
       "      <td>please change the sitara tickets dating back t...</td>\n",
       "    </tr>\n",
       "    <tr>\n",
       "      <th>47388</th>\n",
       "      <td>spam</td>\n",
       "      <td>from mr . silas sankoh ecobank benin rue du go...</td>\n",
       "    </tr>\n",
       "    <tr>\n",
       "      <th>47389</th>\n",
       "      <td>ham</td>\n",
       "      <td>just to get things stirred up : the estate wil...</td>\n",
       "    </tr>\n",
       "    <tr>\n",
       "      <th>47390</th>\n",
       "      <td>ham</td>\n",
       "      <td>sorry for the oversight . bill - - - - - origi...</td>\n",
       "    </tr>\n",
       "    <tr>\n",
       "      <th>47391</th>\n",
       "      <td>spam</td>\n",
       "      <td>executive hospitality corp ( ehpc ) operator o...</td>\n",
       "    </tr>\n",
       "  </tbody>\n",
       "</table>\n",
       "<p>47392 rows × 2 columns</p>\n",
       "</div>"
      ],
      "text/plain": [
       "      label                                               text\n",
       "0       ham  Funny fact Nobody teaches volcanoes 2 erupt, t...\n",
       "1       ham  I sent my scores to sophas and i had to do sec...\n",
       "2      spam  We know someone who you know that fancies you....\n",
       "3       ham  Only if you promise your getting out as SOON a...\n",
       "4      spam  Congratulations ur awarded either �500 of CD g...\n",
       "...     ...                                                ...\n",
       "47387   ham  please change the sitara tickets dating back t...\n",
       "47388  spam  from mr . silas sankoh ecobank benin rue du go...\n",
       "47389   ham  just to get things stirred up : the estate wil...\n",
       "47390   ham  sorry for the oversight . bill - - - - - origi...\n",
       "47391  spam  executive hospitality corp ( ehpc ) operator o...\n",
       "\n",
       "[47392 rows x 2 columns]"
      ]
     },
     "execution_count": 13,
     "metadata": {},
     "output_type": "execute_result"
    }
   ],
   "source": [
    "df"
   ]
  },
  {
   "cell_type": "code",
   "execution_count": 11,
   "metadata": {},
   "outputs": [],
   "source": [
    "variant = goodfire.Variant(\"meta-llama/Meta-Llama-3-8B-Instruct\")"
   ]
  },
  {
   "cell_type": "code",
   "execution_count": 18,
   "metadata": {},
   "outputs": [],
   "source": [
    "positive_examples = df[df['label'] == 'spam']\n",
    "negative_examples = df[df['label'] == 'ham']\n",
    "\n",
    "FEATURE_COMPUTE_SIZE = 50\n",
    "CLASSIFIER_FULL_SET_SIZE = 150"
   ]
  },
  {
   "cell_type": "code",
   "execution_count": 110,
   "metadata": {},
   "outputs": [
    {
     "data": {
      "text/plain": [
       "FeatureGroup([\n",
       "   0: \"Phishing and social engineering tactics\",\n",
       "   1: \"Limited-time offers and scarcity in marketing\",\n",
       "   2: \"Call-to-action phrases in marketing content\",\n",
       "   3: \"Free or low-cost offerings across various domains and languages\",\n",
       "   4: \"Start of a new input or message in the conversation\",\n",
       "   5: \"Encoded or encrypted alphanumeric sequences\",\n",
       "   6: \"Start of a new user query or conversation\",\n",
       "   7: \"SMS and text messaging services\",\n",
       "   8: \"Early 2000s internet culture and technology references\",\n",
       "   ...\n",
       "   249: \"feature_59618\"\n",
       "])"
      ]
     },
     "execution_count": 110,
     "metadata": {},
     "output_type": "execute_result"
    }
   ],
   "source": [
    "spam_features, ham_features = client.features.contrast(\n",
    "    dataset_1=[\n",
    "      [\n",
    "          {\"role\": \"user\", \"content\": f\"Is the following message spam or ham? {text}\"},\n",
    "          {\"role\": \"assistant\", \"content\": \"spam\"}\n",
    "      ] for text in positive_examples[0:FEATURE_COMPUTE_SIZE]['text'].tolist()\n",
    "    ],\n",
    "    dataset_2=[\n",
    "      [\n",
    "          {\"role\": \"user\", \"content\": f\"Is the following message spam or ham? {text}\"},\n",
    "          {\"role\": \"assistant\", \"content\": \"ham\"}\n",
    "      ] for text in negative_examples[0:FEATURE_COMPUTE_SIZE]['text'].tolist()\n",
    "    ],\n",
    "    dataset_1_feature_rerank_query=\"spam\",\n",
    "    model=variant,\n",
    "    top_k=50\n",
    ")\n",
    "features_to_look_at = spam_features | ham_features\n",
    "features_to_look_at"
   ]
  },
  {
   "cell_type": "code",
   "execution_count": 17,
   "metadata": {},
   "outputs": [],
   "source": [
    "from itertools import combinations\n",
    "\n",
    "\n",
    "class FeatureMixer:\n",
    "  def __init__(self, feature_group):\n",
    "    self.feature_group = feature_group\n",
    "\n",
    "  def grid(self, k_features_per_combo: int =2):\n",
    "    \"\"\"Perform a grid search over all possible combinations of features\"\"\"\n",
    "\n",
    "    # Get all possible combinations of features\n",
    "    return list(combinations(self.feature_group, k_features_per_combo))\n"
   ]
  },
  {
   "cell_type": "code",
   "execution_count": 20,
   "metadata": {},
   "outputs": [
    {
     "name": "stdout",
     "output_type": "stream",
     "text": [
      "Computing spam features...\n"
     ]
    },
    {
     "name": "stderr",
     "output_type": "stream",
     "text": [
      "150it [01:33,  1.61it/s]\n"
     ]
    },
    {
     "name": "stdout",
     "output_type": "stream",
     "text": [
      "Computing ham features...\n"
     ]
    },
    {
     "name": "stderr",
     "output_type": "stream",
     "text": [
      "150it [01:30,  1.66it/s]\n"
     ]
    }
   ],
   "source": [
    "import pandas as pd\n",
    "import concurrent.futures as futures\n",
    "import tqdm\n",
    "\n",
    "def _get_feature_acts_for_sample_class(\n",
    "    sample_class: pd.DataFrame,\n",
    "    features_to_use_for_classification: goodfire.FeatureGroup,\n",
    "    k=len(features_to_look_at),\n",
    "):\n",
    "  if k < len(features_to_use_for_classification):\n",
    "    raise ValueError(\"k must be greater than the number of features to use for classification\")\n",
    "\n",
    "  samples = []\n",
    "  for idx, row in tqdm.tqdm(sample_class[0:CLASSIFIER_FULL_SET_SIZE].iterrows()):\n",
    "    text = row['text']\n",
    "    context = client.features.inspect(\n",
    "        [\n",
    "            {\n",
    "                \"role\": \"user\",\n",
    "                \"content\": f\"is the following good or bad for investors? {text}\"\n",
    "            }\n",
    "        ],\n",
    "        model=variant,\n",
    "        features=features_to_use_for_classification,\n",
    "    )\n",
    "\n",
    "    features = context.top(k=k)\n",
    "    samples.append(features)\n",
    "\n",
    "  return samples\n",
    "\n",
    "\n",
    "print(\"Computing spam features...\")\n",
    "positive_class_features = _get_feature_acts_for_sample_class(positive_examples, features_to_look_at, k=100)\n",
    "\n",
    "print(\"Computing ham features...\")\n",
    "negative_class_features = _get_feature_acts_for_sample_class(negative_examples, features_to_look_at, k=100)\n"
   ]
  },
  {
   "cell_type": "code",
   "execution_count": null,
   "metadata": {},
   "outputs": [],
   "source": []
  },
  {
   "cell_type": "code",
   "execution_count": 79,
   "metadata": {},
   "outputs": [
    {
     "name": "stderr",
     "output_type": "stream",
     "text": [
      "100%|██████████| 53/53 [00:00<00:00, 125.95it/s]\n"
     ]
    },
    {
     "name": "stdout",
     "output_type": "stream",
     "text": [
      "1 (Feature(\"Phone number detection, especially area codes 43 and 69\"),) 0.9411764705882353 0.9444444444444444 DecisionTreeClassifier(max_depth=1, min_samples_leaf=7, random_state=42)\n"
     ]
    },
    {
     "name": "stderr",
     "output_type": "stream",
     "text": [
      "100%|██████████| 1378/1378 [00:20<00:00, 67.00it/s]\n"
     ]
    },
    {
     "name": "stdout",
     "output_type": "stream",
     "text": [
      "2 (Feature(\"URL and HTML tag closures\"), Feature(\"Trademarks and brand names for consumer electronics\")) 0.9496402877697842 0.9519230769230769 DecisionTreeClassifier(max_depth=2, min_samples_leaf=7, random_state=42)\n"
     ]
    },
    {
     "name": "stderr",
     "output_type": "stream",
     "text": [
      "100%|██████████| 23426/23426 [06:39<00:00, 58.70it/s]\n"
     ]
    },
    {
     "name": "stdout",
     "output_type": "stream",
     "text": [
      "3 (Feature(\"Phishing and social engineering tactics\"), Feature(\"URL and HTML tag closures\"), Feature(\"Trademarks and brand names for consumer electronics\")) 0.9496402877697842 0.9519230769230769 DecisionTreeClassifier(max_depth=3, min_samples_leaf=7, random_state=42)\n"
     ]
    }
   ],
   "source": [
    "from sklearn import tree\n",
    "from sklearn import svm\n",
    "from sklearn.model_selection import train_test_split\n",
    "from sklearn.metrics import balanced_accuracy_score, accuracy_score, f1_score\n",
    "import numpy as np\n",
    "import tqdm\n",
    "\n",
    "\n",
    "# Grid search may take a while, you can curate the feature list to speed this process up significantly\n",
    "def train_tree(x, y, depth):\n",
    "  train_x, test_x, train_y, test_y = train_test_split(x, y, train_size=0.5, random_state=42)\n",
    "\n",
    "  # Create a nice regularized tree\n",
    "  model = tree.DecisionTreeClassifier(\n",
    "      max_depth=depth,\n",
    "      min_samples_leaf=len(train_x) // 20,\n",
    "      random_state=42\n",
    "  )\n",
    "\n",
    "  model.fit(train_x, train_y)\n",
    "\n",
    "  pred = model.predict(test_x)\n",
    "\n",
    "  # Calculate the f1 score of the model\n",
    "  accuracy = balanced_accuracy_score(test_y, pred)\n",
    "  score = f1_score(test_y, pred)\n",
    "\n",
    "  return model, pred, score, accuracy\n",
    "\n",
    "\n",
    "def find_best_combo(features, k_features_per_combo = 2):\n",
    "  combos = FeatureMixer(features).grid(k_features_per_combo=k_features_per_combo)\n",
    "  best_combo = None\n",
    "  best_model = None\n",
    "  best_score = 0\n",
    "  best_accuracy = 0\n",
    "\n",
    "  MAX_WORKERS = 8\n",
    "\n",
    "  futures_list = []\n",
    "\n",
    "  with futures.ThreadPoolExecutor(max_workers=MAX_WORKERS) as executor:\n",
    "    for combo in combos:\n",
    "      def _test_combo(combo):\n",
    "        def _select_feature_acts(combo, row):\n",
    "          output = []\n",
    "          for index, feature in enumerate(combo):\n",
    "            for feature_act in row:\n",
    "              if feature_act.feature.uuid == feature.uuid:\n",
    "                output.append(feature_act.activation)\n",
    "                break\n",
    "\n",
    "          return output\n",
    "\n",
    "        x_negative = [_select_feature_acts(combo, row) for row in negative_class_features]\n",
    "        x_positive = [_select_feature_acts(combo, row) for row in positive_class_features]\n",
    "\n",
    "        y_negative = [-1] * len(x_negative)\n",
    "        y_positive = [1] * len(x_positive)\n",
    "\n",
    "        x = x_negative + x_positive\n",
    "        y = y_negative + y_positive\n",
    "\n",
    "        model, pred, score, accuracy = train_tree(x, y, depth=len(combo))\n",
    "\n",
    "        return model, pred, score, accuracy, combo\n",
    "\n",
    "      futures_list.append(executor.submit(_test_combo, combo))\n",
    "\n",
    "    for future in tqdm.tqdm(futures_list):\n",
    "      model, pred, score, accuracy, combo = future.result()\n",
    "\n",
    "      if score > best_score:\n",
    "        best_score = score\n",
    "        best_combo = combo\n",
    "        best_model = model\n",
    "        best_accuracy = accuracy\n",
    "\n",
    "  return best_combo, best_score, best_model, best_accuracy\n",
    "\n",
    "\n",
    "best_combo_at_k = {}\n",
    "for i in range(3):\n",
    "  best_combo, best_score, best_model, best_accuracy = find_best_combo(features_to_look_at, k_features_per_combo = i + 1)\n",
    "  print(i + 1, best_combo, best_score, best_accuracy, best_model)\n",
    "  best_combo_at_k[i + 1] = (best_combo, best_score, best_model)\n"
   ]
  },
  {
   "cell_type": "code",
   "execution_count": 80,
   "metadata": {},
   "outputs": [
    {
     "name": "stdout",
     "output_type": "stream",
     "text": [
      "Feature(\"Phishing and social engineering tactics\")\n"
     ]
    },
    {
     "data": {
      "text/plain": [
       "FeatureGroup([\n",
       "   0: \"Cautionary advice for online security\",\n",
       "   1: \"Email composition and HTML formatting\",\n",
       "   2: \"Detection of misleading financial or employment claims\",\n",
       "   3: \"Malicious software and cyber attack techniques\",\n",
       "   4: \"Spam and automated messaging techniques\",\n",
       "   5: \"Identity theft and financial fraud risks\",\n",
       "   6: \"The user has requested a new scenario or story\",\n",
       "   7: \"Receiving or blocking unwanted digital communication\",\n",
       "   8: \"Manipulative and coercive persuasion techniques\",\n",
       "   9: \"Password recovery and account reset processes\"\n",
       "])"
      ]
     },
     "execution_count": 80,
     "metadata": {},
     "output_type": "execute_result"
    }
   ],
   "source": [
    "# Inspect features to understand their nuances better\n",
    "best_individual_feature = best_combo_at_k[3][0][0]\n",
    "\n",
    "print(best_individual_feature)\n",
    "\n",
    "client.features._experimental.neighbors(best_individual_feature)\n",
    "# Seems to be associated with more precise numbers! Corraborated by checking samples where this feature was particularly active."
   ]
  },
  {
   "cell_type": "code",
   "execution_count": 81,
   "metadata": {},
   "outputs": [],
   "source": [
    "# Function to visualize the decision tree\n",
    "def visualize_tree(tree_model, features, class_names=['negative', 'positive']):\n",
    "    import graphviz\n",
    "    dot_data = tree.export_graphviz(\n",
    "        tree_model, \n",
    "        out_file=None, \n",
    "        feature_names=[feature.label for feature in features],\n",
    "        class_names=class_names,\n",
    "        filled=True,\n",
    "        rounded=True,\n",
    "        special_characters=True\n",
    "    )\n",
    "    graph = graphviz.Source(dot_data)\n",
    "    return graph"
   ]
  },
  {
   "cell_type": "code",
   "execution_count": 84,
   "metadata": {},
   "outputs": [
    {
     "name": "stdout",
     "output_type": "stream",
     "text": [
      "DecisionTreeClassifier(max_depth=3, min_samples_leaf=7, random_state=42)\n",
      "(Feature(\"Phishing and social engineering tactics\"), Feature(\"URL and HTML tag closures\"), Feature(\"Trademarks and brand names for consumer electronics\"))\n",
      "0.9496402877697842\n"
     ]
    },
    {
     "data": {
      "image/svg+xml": [
       "<?xml version=\"1.0\" encoding=\"UTF-8\" standalone=\"no\"?>\n",
       "<!DOCTYPE svg PUBLIC \"-//W3C//DTD SVG 1.1//EN\"\n",
       " \"http://www.w3.org/Graphics/SVG/1.1/DTD/svg11.dtd\">\n",
       "<!-- Generated by graphviz version 2.43.0 (0)\n",
       " -->\n",
       "<!-- Title: Tree Pages: 1 -->\n",
       "<svg width=\"616pt\" height=\"314pt\"\n",
       " viewBox=\"0.00 0.00 616.00 314.00\" xmlns=\"http://www.w3.org/2000/svg\" xmlns:xlink=\"http://www.w3.org/1999/xlink\">\n",
       "<g id=\"graph0\" class=\"graph\" transform=\"scale(1 1) rotate(0) translate(4 310)\">\n",
       "<title>Tree</title>\n",
       "<polygon fill=\"white\" stroke=\"transparent\" points=\"-4,4 -4,-310 612,-310 612,4 -4,4\"/>\n",
       "<!-- 0 -->\n",
       "<g id=\"node1\" class=\"node\">\n",
       "<title>0</title>\n",
       "<path fill=\"#f0f7fd\" stroke=\"black\" d=\"M510,-306C510,-306 266,-306 266,-306 260,-306 254,-300 254,-294 254,-294 254,-235 254,-235 254,-229 260,-223 266,-223 266,-223 510,-223 510,-223 516,-223 522,-229 522,-235 522,-235 522,-294 522,-294 522,-300 516,-306 510,-306\"/>\n",
       "<text text-anchor=\"start\" x=\"262\" y=\"-290.8\" font-family=\"Helvetica,sans-Serif\" font-size=\"14.00\">URL and HTML tag closures ≤ 0.132</text>\n",
       "<text text-anchor=\"start\" x=\"344\" y=\"-275.8\" font-family=\"Helvetica,sans-Serif\" font-size=\"14.00\">gini = 0.499</text>\n",
       "<text text-anchor=\"start\" x=\"335\" y=\"-260.8\" font-family=\"Helvetica,sans-Serif\" font-size=\"14.00\">samples = 150</text>\n",
       "<text text-anchor=\"start\" x=\"330.5\" y=\"-245.8\" font-family=\"Helvetica,sans-Serif\" font-size=\"14.00\">value = [72, 78]</text>\n",
       "<text text-anchor=\"start\" x=\"333\" y=\"-230.8\" font-family=\"Helvetica,sans-Serif\" font-size=\"14.00\">class = positive</text>\n",
       "</g>\n",
       "<!-- 1 -->\n",
       "<g id=\"node2\" class=\"node\">\n",
       "<title>1</title>\n",
       "<path fill=\"#eb9f68\" stroke=\"black\" d=\"M452,-187C452,-187 12,-187 12,-187 6,-187 0,-181 0,-175 0,-175 0,-116 0,-116 0,-110 6,-104 12,-104 12,-104 452,-104 452,-104 458,-104 464,-110 464,-116 464,-116 464,-175 464,-175 464,-181 458,-187 452,-187\"/>\n",
       "<text text-anchor=\"start\" x=\"8\" y=\"-171.8\" font-family=\"Helvetica,sans-Serif\" font-size=\"14.00\">Trademarks and brand names for consumer electronics ≤ 0.126</text>\n",
       "<text text-anchor=\"start\" x=\"188\" y=\"-156.8\" font-family=\"Helvetica,sans-Serif\" font-size=\"14.00\">gini = 0.309</text>\n",
       "<text text-anchor=\"start\" x=\"183.5\" y=\"-141.8\" font-family=\"Helvetica,sans-Serif\" font-size=\"14.00\">samples = 89</text>\n",
       "<text text-anchor=\"start\" x=\"174.5\" y=\"-126.8\" font-family=\"Helvetica,sans-Serif\" font-size=\"14.00\">value = [72, 17]</text>\n",
       "<text text-anchor=\"start\" x=\"174\" y=\"-111.8\" font-family=\"Helvetica,sans-Serif\" font-size=\"14.00\">class = negative</text>\n",
       "</g>\n",
       "<!-- 0&#45;&gt;1 -->\n",
       "<g id=\"edge1\" class=\"edge\">\n",
       "<title>0&#45;&gt;1</title>\n",
       "<path fill=\"none\" stroke=\"black\" d=\"M333.88,-222.91C321.05,-213.29 307.27,-202.95 294.12,-193.09\"/>\n",
       "<polygon fill=\"black\" stroke=\"black\" points=\"296.13,-190.22 286.03,-187.02 291.93,-195.82 296.13,-190.22\"/>\n",
       "<text text-anchor=\"middle\" x=\"289.56\" y=\"-208.07\" font-family=\"Helvetica,sans-Serif\" font-size=\"14.00\">True</text>\n",
       "</g>\n",
       "<!-- 4 -->\n",
       "<g id=\"node5\" class=\"node\">\n",
       "<title>4</title>\n",
       "<path fill=\"#399de5\" stroke=\"black\" d=\"M596,-179.5C596,-179.5 494,-179.5 494,-179.5 488,-179.5 482,-173.5 482,-167.5 482,-167.5 482,-123.5 482,-123.5 482,-117.5 488,-111.5 494,-111.5 494,-111.5 596,-111.5 596,-111.5 602,-111.5 608,-117.5 608,-123.5 608,-123.5 608,-167.5 608,-167.5 608,-173.5 602,-179.5 596,-179.5\"/>\n",
       "<text text-anchor=\"start\" x=\"510\" y=\"-164.3\" font-family=\"Helvetica,sans-Serif\" font-size=\"14.00\">gini = 0.0</text>\n",
       "<text text-anchor=\"start\" x=\"496.5\" y=\"-149.3\" font-family=\"Helvetica,sans-Serif\" font-size=\"14.00\">samples = 61</text>\n",
       "<text text-anchor=\"start\" x=\"492\" y=\"-134.3\" font-family=\"Helvetica,sans-Serif\" font-size=\"14.00\">value = [0, 61]</text>\n",
       "<text text-anchor=\"start\" x=\"490\" y=\"-119.3\" font-family=\"Helvetica,sans-Serif\" font-size=\"14.00\">class = positive</text>\n",
       "</g>\n",
       "<!-- 0&#45;&gt;4 -->\n",
       "<g id=\"edge4\" class=\"edge\">\n",
       "<title>0&#45;&gt;4</title>\n",
       "<path fill=\"none\" stroke=\"black\" d=\"M442.47,-222.91C458.61,-210.88 476.25,-197.73 492.28,-185.79\"/>\n",
       "<polygon fill=\"black\" stroke=\"black\" points=\"494.57,-188.45 500.49,-179.67 490.38,-182.84 494.57,-188.45\"/>\n",
       "<text text-anchor=\"middle\" x=\"496.88\" y=\"-200.7\" font-family=\"Helvetica,sans-Serif\" font-size=\"14.00\">False</text>\n",
       "</g>\n",
       "<!-- 2 -->\n",
       "<g id=\"node3\" class=\"node\">\n",
       "<title>2</title>\n",
       "<path fill=\"#e99254\" stroke=\"black\" d=\"M213,-68C213,-68 105,-68 105,-68 99,-68 93,-62 93,-56 93,-56 93,-12 93,-12 93,-6 99,0 105,0 105,0 213,0 213,0 219,0 225,-6 225,-12 225,-12 225,-56 225,-56 225,-62 219,-68 213,-68\"/>\n",
       "<text text-anchor=\"start\" x=\"115\" y=\"-52.8\" font-family=\"Helvetica,sans-Serif\" font-size=\"14.00\">gini = 0.214</text>\n",
       "<text text-anchor=\"start\" x=\"110.5\" y=\"-37.8\" font-family=\"Helvetica,sans-Serif\" font-size=\"14.00\">samples = 82</text>\n",
       "<text text-anchor=\"start\" x=\"101.5\" y=\"-22.8\" font-family=\"Helvetica,sans-Serif\" font-size=\"14.00\">value = [72, 10]</text>\n",
       "<text text-anchor=\"start\" x=\"101\" y=\"-7.8\" font-family=\"Helvetica,sans-Serif\" font-size=\"14.00\">class = negative</text>\n",
       "</g>\n",
       "<!-- 1&#45;&gt;2 -->\n",
       "<g id=\"edge2\" class=\"edge\">\n",
       "<title>1&#45;&gt;2</title>\n",
       "<path fill=\"none\" stroke=\"black\" d=\"M204.82,-103.73C198.92,-94.88 192.67,-85.51 186.75,-76.63\"/>\n",
       "<polygon fill=\"black\" stroke=\"black\" points=\"189.66,-74.68 181.2,-68.3 183.83,-78.56 189.66,-74.68\"/>\n",
       "</g>\n",
       "<!-- 3 -->\n",
       "<g id=\"node4\" class=\"node\">\n",
       "<title>3</title>\n",
       "<path fill=\"#399de5\" stroke=\"black\" d=\"M357,-68C357,-68 255,-68 255,-68 249,-68 243,-62 243,-56 243,-56 243,-12 243,-12 243,-6 249,0 255,0 255,0 357,0 357,0 363,0 369,-6 369,-12 369,-12 369,-56 369,-56 369,-62 363,-68 357,-68\"/>\n",
       "<text text-anchor=\"start\" x=\"271\" y=\"-52.8\" font-family=\"Helvetica,sans-Serif\" font-size=\"14.00\">gini = 0.0</text>\n",
       "<text text-anchor=\"start\" x=\"262\" y=\"-37.8\" font-family=\"Helvetica,sans-Serif\" font-size=\"14.00\">samples = 7</text>\n",
       "<text text-anchor=\"start\" x=\"257.5\" y=\"-22.8\" font-family=\"Helvetica,sans-Serif\" font-size=\"14.00\">value = [0, 7]</text>\n",
       "<text text-anchor=\"start\" x=\"251\" y=\"-7.8\" font-family=\"Helvetica,sans-Serif\" font-size=\"14.00\">class = positive</text>\n",
       "</g>\n",
       "<!-- 1&#45;&gt;3 -->\n",
       "<g id=\"edge3\" class=\"edge\">\n",
       "<title>1&#45;&gt;3</title>\n",
       "<path fill=\"none\" stroke=\"black\" d=\"M259.55,-103.73C265.53,-94.88 271.87,-85.51 277.87,-76.63\"/>\n",
       "<polygon fill=\"black\" stroke=\"black\" points=\"280.8,-78.54 283.5,-68.3 275,-74.63 280.8,-78.54\"/>\n",
       "</g>\n",
       "</g>\n",
       "</svg>\n"
      ],
      "text/plain": [
       "<graphviz.sources.Source at 0x74b33ddb3760>"
      ]
     },
     "execution_count": 84,
     "metadata": {},
     "output_type": "execute_result"
    }
   ],
   "source": [
    "# Anyways let's look at the best overall tree\n",
    "BEST_TREE_INDEX = 3\n",
    "best_features = best_combo_at_k[BEST_TREE_INDEX][0]\n",
    "best_score = best_combo_at_k[BEST_TREE_INDEX][1]\n",
    "best_tree = best_combo_at_k[BEST_TREE_INDEX][2]\n",
    "\n",
    "# Visualize the tree\n",
    "print(best_tree)\n",
    "print(best_features)\n",
    "print(best_score)\n",
    "visualize_tree(best_tree, best_features)"
   ]
  },
  {
   "cell_type": "code",
   "execution_count": 113,
   "metadata": {},
   "outputs": [
    {
     "ename": "AttributeError",
     "evalue": "'Variant' object has no attribute 'completions'",
     "output_type": "error",
     "traceback": [
      "\u001b[0;31m---------------------------------------------------------------------------\u001b[0m",
      "\u001b[0;31mAttributeError\u001b[0m                            Traceback (most recent call last)",
      "Cell \u001b[0;32mIn[113], line 1\u001b[0m\n\u001b[0;32m----> 1\u001b[0m \u001b[43mvariant\u001b[49m\u001b[38;5;241;43m.\u001b[39;49m\u001b[43mcompletions\u001b[49m\u001b[38;5;241m.\u001b[39mcreate(\n\u001b[1;32m      2\u001b[0m       [\n\u001b[1;32m      3\u001b[0m           {\u001b[38;5;124m\"\u001b[39m\u001b[38;5;124mrole\u001b[39m\u001b[38;5;124m\"\u001b[39m: \u001b[38;5;124m\"\u001b[39m\u001b[38;5;124muser\u001b[39m\u001b[38;5;124m\"\u001b[39m, \u001b[38;5;124m\"\u001b[39m\u001b[38;5;124mcontent\u001b[39m\u001b[38;5;124m\"\u001b[39m: \u001b[38;5;124m\"\u001b[39m\u001b[38;5;124mHello. How are you?\u001b[39m\u001b[38;5;124m\"\u001b[39m}\n\u001b[1;32m      4\u001b[0m       ],\n\u001b[1;32m      5\u001b[0m       stream\u001b[38;5;241m=\u001b[39m\u001b[38;5;28;01mTrue\u001b[39;00m,\n\u001b[1;32m      6\u001b[0m       max_completion_tokens\u001b[38;5;241m=\u001b[39m\u001b[38;5;241m50\u001b[39m,\n\u001b[1;32m      7\u001b[0m )\n",
      "\u001b[0;31mAttributeError\u001b[0m: 'Variant' object has no attribute 'completions'"
     ]
    }
   ],
   "source": []
  },
  {
   "cell_type": "code",
   "execution_count": null,
   "metadata": {},
   "outputs": [],
   "source": []
  }
 ],
 "metadata": {
  "kernelspec": {
   "display_name": ".venv",
   "language": "python",
   "name": "python3"
  },
  "language_info": {
   "codemirror_mode": {
    "name": "ipython",
    "version": 3
   },
   "file_extension": ".py",
   "mimetype": "text/x-python",
   "name": "python",
   "nbconvert_exporter": "python",
   "pygments_lexer": "ipython3",
   "version": "3.10.12"
  }
 },
 "nbformat": 4,
 "nbformat_minor": 2
}
